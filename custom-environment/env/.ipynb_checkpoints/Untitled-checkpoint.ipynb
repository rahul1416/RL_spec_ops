{
 "cells": [
  {
   "cell_type": "code",
   "execution_count": 5,
   "id": "e147205a-f4d6-4c02-afec-4a550f825a27",
   "metadata": {},
   "outputs": [],
   "source": [
    "#from ray.tune.registry import register_env\n",
    "import custom_environment as specOpsEnv\n",
    "#import rllib pettingzoo interface\n",
    "#from ray.rllib.env import PettingZooEnv    "
   ]
  },
  {
   "cell_type": "markdown",
   "id": "1a27ca38-be3b-4e85-9913-5a695a53c220",
   "metadata": {},
   "source": [
    "# Environment Testing"
   ]
  },
  {
   "cell_type": "code",
   "execution_count": 6,
   "id": "70ffb8f8-f410-4952-bfaf-0923f0326ac5",
   "metadata": {},
   "outputs": [
    {
     "name": "stdout",
     "output_type": "stream",
     "text": [
      "Starting API test\n"
     ]
    },
    {
     "ename": "AssertionError",
     "evalue": "Env must be an instance of pettingzoo.AECEnv",
     "output_type": "error",
     "traceback": [
      "\u001b[0;31m---------------------------------------------------------------------------\u001b[0m",
      "\u001b[0;31mAssertionError\u001b[0m                            Traceback (most recent call last)",
      "Cell \u001b[0;32mIn[6], line 3\u001b[0m\n\u001b[1;32m      1\u001b[0m \u001b[38;5;28;01mfrom\u001b[39;00m \u001b[38;5;21;01mpettingzoo\u001b[39;00m\u001b[38;5;21;01m.\u001b[39;00m\u001b[38;5;21;01mtest\u001b[39;00m \u001b[38;5;28;01mimport\u001b[39;00m api_test\n\u001b[1;32m      2\u001b[0m env \u001b[38;5;241m=\u001b[39m specOpsEnv\u001b[38;5;241m.\u001b[39mCustomEnvironment()\n\u001b[0;32m----> 3\u001b[0m \u001b[43mapi_test\u001b[49m\u001b[43m(\u001b[49m\u001b[43menv\u001b[49m\u001b[43m,\u001b[49m\u001b[43m \u001b[49m\u001b[43mnum_cycles\u001b[49m\u001b[38;5;241;43m=\u001b[39;49m\u001b[38;5;241;43m1000\u001b[39;49m\u001b[43m,\u001b[49m\u001b[43m \u001b[49m\u001b[43mverbose_progress\u001b[49m\u001b[38;5;241;43m=\u001b[39;49m\u001b[38;5;28;43;01mFalse\u001b[39;49;00m\u001b[43m)\u001b[49m\n",
      "File \u001b[0;32m~/Documents/RL_Spec_Ops/venv/lib/python3.11/site-packages/pettingzoo/test/api_test.py:553\u001b[0m, in \u001b[0;36mapi_test\u001b[0;34m(env, num_cycles, verbose_progress)\u001b[0m\n\u001b[1;32m    550\u001b[0m \u001b[38;5;66;03m# checks that reset takes arguments called seed and options\u001b[39;00m\n\u001b[1;32m    551\u001b[0m env\u001b[38;5;241m.\u001b[39mreset(seed\u001b[38;5;241m=\u001b[39m\u001b[38;5;241m0\u001b[39m, options\u001b[38;5;241m=\u001b[39m{\u001b[38;5;124m\"\u001b[39m\u001b[38;5;124moptions\u001b[39m\u001b[38;5;124m\"\u001b[39m: \u001b[38;5;241m1\u001b[39m})\n\u001b[0;32m--> 553\u001b[0m \u001b[38;5;28;01massert\u001b[39;00m \u001b[38;5;28misinstance\u001b[39m(\n\u001b[1;32m    554\u001b[0m     env, pettingzoo\u001b[38;5;241m.\u001b[39mAECEnv\n\u001b[1;32m    555\u001b[0m ), \u001b[38;5;124m\"\u001b[39m\u001b[38;5;124mEnv must be an instance of pettingzoo.AECEnv\u001b[39m\u001b[38;5;124m\"\u001b[39m\n\u001b[1;32m    557\u001b[0m env\u001b[38;5;241m.\u001b[39mreset()\n\u001b[1;32m    558\u001b[0m \u001b[38;5;28;01massert\u001b[39;00m \u001b[38;5;129;01mnot\u001b[39;00m \u001b[38;5;28many\u001b[39m(\n\u001b[1;32m    559\u001b[0m     env\u001b[38;5;241m.\u001b[39mterminations\u001b[38;5;241m.\u001b[39mvalues()\n\u001b[1;32m    560\u001b[0m ), \u001b[38;5;124m\"\u001b[39m\u001b[38;5;124mterminations must all be False after reset\u001b[39m\u001b[38;5;124m\"\u001b[39m\n",
      "\u001b[0;31mAssertionError\u001b[0m: Env must be an instance of pettingzoo.AECEnv"
     ]
    }
   ],
   "source": [
    "from pettingzoo.test import api_test\n",
    "env = specOpsEnv.CustomEnvironment()\n",
    "api_test(env, num_cycles=1000, verbose_progress=False)"
   ]
  },
  {
   "cell_type": "code",
   "execution_count": null,
   "id": "6edc64af-5a03-4c28-9258-b1c5b0c32718",
   "metadata": {},
   "outputs": [],
   "source": []
  },
  {
   "cell_type": "code",
   "execution_count": 11,
   "id": "c86e2c89-06ec-4897-a53e-626563788a01",
   "metadata": {},
   "outputs": [],
   "source": [
    "# define how to make the environment. This way takes an optional environment config, num_floors\n",
    "config={}\n",
    "env_creator = lambda config: specOpsEnv.env(num_floors=config.get(\"num_floors\", 4))\n",
    "# register that way to make the environment under an rllib name\n",
    "register_env('arena', lambda config: PettingZooEnv(env_creator(config)))\n",
    "# now you can use `prison` as an environment\n",
    "# you can pass arguments to the environment creator with the env_config option in the config\n",
    "config['env_config'] = {\"num_floors\": 5}"
   ]
  },
  {
   "cell_type": "code",
   "execution_count": 5,
   "id": "809c61fd-9e21-4591-b4bd-521c4a8e6329",
   "metadata": {},
   "outputs": [
    {
     "data": {
      "text/plain": [
       "<function __main__.<lambda>(config)>"
      ]
     },
     "execution_count": 5,
     "metadata": {},
     "output_type": "execute_result"
    }
   ],
   "source": []
  },
  {
   "cell_type": "markdown",
   "id": "3c47d486-ee2f-4b25-9a5c-eb46f6ef3e1a",
   "metadata": {},
   "source": []
  }
 ],
 "metadata": {
  "kernelspec": {
   "display_name": "Python 3 (ipykernel)",
   "language": "python",
   "name": "python3"
  },
  "language_info": {
   "codemirror_mode": {
    "name": "ipython",
    "version": 3
   },
   "file_extension": ".py",
   "mimetype": "text/x-python",
   "name": "python",
   "nbconvert_exporter": "python",
   "pygments_lexer": "ipython3",
   "version": "3.11.5"
  }
 },
 "nbformat": 4,
 "nbformat_minor": 5
}
